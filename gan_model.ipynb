{
 "metadata": {
  "language_info": {
   "codemirror_mode": {
    "name": "ipython",
    "version": 3
   },
   "file_extension": ".py",
   "mimetype": "text/x-python",
   "name": "python",
   "nbconvert_exporter": "python",
   "pygments_lexer": "ipython3",
   "version": "3.7.4"
  },
  "orig_nbformat": 4,
  "kernelspec": {
   "name": "python3",
   "display_name": "Python 3.7.4 64-bit"
  },
  "interpreter": {
   "hash": "7be35b7fb98e915637bb1c527cd3d27c68e7a7c4684499d43c65acef62eaf27e"
  }
 },
 "nbformat": 4,
 "nbformat_minor": 2,
 "cells": [
  {
   "cell_type": "code",
   "execution_count": 2,
   "metadata": {},
   "outputs": [],
   "source": [
    "import tensorflow as tf\n",
    "import numpy as np\n",
    "import matplotlib.pyplot as plt\n"
   ]
  },
  {
   "cell_type": "code",
   "execution_count": 7,
   "metadata": {},
   "outputs": [
    {
     "output_type": "stream",
     "name": "stdout",
     "text": [
      "Model: \"sequential_4\"\n_________________________________________________________________\nLayer (type)                 Output Shape              Param #   \n=================================================================\nconv2d_8 (Conv2D)            (None, 28, 28, 6)         156       \n_________________________________________________________________\nbatch_normalization_16 (Batc (None, 28, 28, 6)         24        \n_________________________________________________________________\nre_lu_16 (ReLU)              (None, 28, 28, 6)         0         \n_________________________________________________________________\nmax_pooling2d_8 (MaxPooling2 (None, 14, 14, 6)         0         \n_________________________________________________________________\nconv2d_9 (Conv2D)            (None, 10, 10, 16)        2416      \n_________________________________________________________________\nbatch_normalization_17 (Batc (None, 10, 10, 16)        64        \n_________________________________________________________________\nre_lu_17 (ReLU)              (None, 10, 10, 16)        0         \n_________________________________________________________________\nmax_pooling2d_9 (MaxPooling2 (None, 5, 5, 16)          0         \n_________________________________________________________________\nflatten_4 (Flatten)          (None, 400)               0         \n_________________________________________________________________\ndense_12 (Dense)             (None, 120)               48120     \n_________________________________________________________________\nbatch_normalization_18 (Batc (None, 120)               480       \n_________________________________________________________________\nre_lu_18 (ReLU)              (None, 120)               0         \n_________________________________________________________________\ndense_13 (Dense)             (None, 84)                10164     \n_________________________________________________________________\nbatch_normalization_19 (Batc (None, 84)                336       \n_________________________________________________________________\nre_lu_19 (ReLU)              (None, 84)                0         \n_________________________________________________________________\ndense_14 (Dense)             (None, 1)                 85        \n=================================================================\nTotal params: 61,845\nTrainable params: 61,393\nNon-trainable params: 452\n_________________________________________________________________\n"
     ]
    }
   ],
   "source": [
    "#discriminator model\n",
    "discriminator = tf.keras.Sequential(\n",
    "    [\n",
    "        tf.keras.Input(shape= (28,28,1)),\n",
    "        tf.keras.layers.Conv2D(6,5,padding='same'),\n",
    "        tf.keras.layers.BatchNormalization(),\n",
    "        tf.keras.layers.ReLU(),\n",
    "        tf.keras.layers.MaxPool2D(pool_size= (2,2),strides= (2,2)),\n",
    "        tf.keras.layers.Conv2D(16,5,padding='valid'),\n",
    "        tf.keras.layers.BatchNormalization(),\n",
    "        tf.keras.layers.ReLU(),\n",
    "        tf.keras.layers.MaxPool2D(pool_size= (2,2), strides=(2,2)),\n",
    "        tf.keras.layers.Flatten(),\n",
    "        tf.keras.layers.Dense(120),\n",
    "        tf.keras.layers.BatchNormalization(),\n",
    "        tf.keras.layers.ReLU(),\n",
    "        tf.keras.layers.Dense(84),\n",
    "        tf.keras.layers.BatchNormalization(),\n",
    "        tf.keras.layers.ReLU(),\n",
    "        tf.keras.layers.Dense(1, activation= 'sigmoid')\n",
    "    ]\n",
    ")\n",
    "discriminator.summary()"
   ]
  },
  {
   "cell_type": "code",
   "execution_count": 18,
   "metadata": {},
   "outputs": [
    {
     "output_type": "stream",
     "name": "stdout",
     "text": [
      "Model: \"sequential_13\"\n_________________________________________________________________\nLayer (type)                 Output Shape              Param #   \n=================================================================\ndense_39 (Dense)             (None, 84)                924       \n_________________________________________________________________\ndense_40 (Dense)             (None, 120)               10200     \n_________________________________________________________________\ndense_41 (Dense)             (None, 400)               48400     \n_________________________________________________________________\nreshape_11 (Reshape)         (None, 5, 5, 16)          0         \n_________________________________________________________________\nup_sampling2d_15 (UpSampling (None, 10, 10, 16)        0         \n_________________________________________________________________\nconv2d_10 (Conv2D)           (None, 10, 10, 16)        6416      \n_________________________________________________________________\nconv2d_transpose_3 (Conv2DTr (None, 14, 14, 6)         2406      \n_________________________________________________________________\nup_sampling2d_16 (UpSampling (None, 28, 28, 6)         0         \n_________________________________________________________________\nconv2d_11 (Conv2D)           (None, 28, 28, 1)         151       \n=================================================================\nTotal params: 68,497\nTrainable params: 68,497\nNon-trainable params: 0\n_________________________________________________________________\n"
     ]
    }
   ],
   "source": [
    "# Generator model\n",
    "generator = tf.keras.Sequential(\n",
    "    [\n",
    "        tf.keras.Input(shape=(10,)),\n",
    "        tf.keras.layers.Dense(84, activation = 'relu'),\n",
    "        tf.keras.layers.Dense(120,activation = 'relu'),\n",
    "        tf.keras.layers.Dense(400, activation = 'relu'),\n",
    "        tf.keras.layers.Reshape((5,5,16)),\n",
    "        tf.keras.layers.UpSampling2D(size = (2,2)),\n",
    "        tf.keras.layers.Conv2D(16,5, padding = 'same',activation = 'relu'),\n",
    "        tf.keras.layers.Conv2DTranspose(6,5,activation = 'relu'),\n",
    "        tf.keras.layers.UpSampling2D(size = (2,2)),\n",
    "        tf.keras.layers.Conv2D(1,5,padding= 'same',activation = 'relu')\n",
    "    ]\n",
    ")\n",
    "generator.summary()"
   ]
  },
  {
   "cell_type": "code",
   "execution_count": null,
   "metadata": {},
   "outputs": [],
   "source": []
  }
 ]
}