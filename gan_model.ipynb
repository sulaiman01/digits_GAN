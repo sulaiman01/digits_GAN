{
 "metadata": {
  "language_info": {
   "codemirror_mode": {
    "name": "ipython",
    "version": 3
   },
   "file_extension": ".py",
   "mimetype": "text/x-python",
   "name": "python",
   "nbconvert_exporter": "python",
   "pygments_lexer": "ipython3",
   "version": "3.7.4"
  },
  "orig_nbformat": 4,
  "kernelspec": {
   "name": "python3",
   "display_name": "Python 3.7.4 64-bit"
  },
  "interpreter": {
   "hash": "7be35b7fb98e915637bb1c527cd3d27c68e7a7c4684499d43c65acef62eaf27e"
  }
 },
 "nbformat": 4,
 "nbformat_minor": 2,
 "cells": [
  {
   "cell_type": "code",
   "execution_count": 1,
   "metadata": {},
   "outputs": [],
   "source": [
    "import tensorflow as tf\n",
    "import numpy as np\n",
    "import matplotlib.pyplot as plt\n"
   ]
  },
  {
   "cell_type": "code",
   "execution_count": 2,
   "metadata": {},
   "outputs": [
    {
     "output_type": "stream",
     "name": "stdout",
     "text": [
      "Model: \"sequential\"\n_________________________________________________________________\nLayer (type)                 Output Shape              Param #   \n=================================================================\nconv2d (Conv2D)              (None, 28, 28, 6)         456       \n_________________________________________________________________\nbatch_normalization (BatchNo (None, 28, 28, 6)         24        \n_________________________________________________________________\nre_lu (ReLU)                 (None, 28, 28, 6)         0         \n_________________________________________________________________\nmax_pooling2d (MaxPooling2D) (None, 14, 14, 6)         0         \n_________________________________________________________________\nconv2d_1 (Conv2D)            (None, 10, 10, 16)        2416      \n_________________________________________________________________\nbatch_normalization_1 (Batch (None, 10, 10, 16)        64        \n_________________________________________________________________\nre_lu_1 (ReLU)               (None, 10, 10, 16)        0         \n_________________________________________________________________\nmax_pooling2d_1 (MaxPooling2 (None, 5, 5, 16)          0         \n_________________________________________________________________\nflatten (Flatten)            (None, 400)               0         \n_________________________________________________________________\ndense (Dense)                (None, 120)               48120     \n_________________________________________________________________\nbatch_normalization_2 (Batch (None, 120)               480       \n_________________________________________________________________\nre_lu_2 (ReLU)               (None, 120)               0         \n_________________________________________________________________\ndense_1 (Dense)              (None, 84)                10164     \n_________________________________________________________________\nbatch_normalization_3 (Batch (None, 84)                336       \n_________________________________________________________________\nre_lu_3 (ReLU)               (None, 84)                0         \n_________________________________________________________________\ndense_2 (Dense)              (None, 1)                 85        \n=================================================================\nTotal params: 62,145\nTrainable params: 61,693\nNon-trainable params: 452\n_________________________________________________________________\n"
     ]
    }
   ],
   "source": [
    "#discriminator model\n",
    "discriminator = tf.keras.Sequential(\n",
    "    [\n",
    "        tf.keras.Input(shape= (28,28,3)),\n",
    "        tf.keras.layers.Conv2D(6,5,padding='same'),\n",
    "        tf.keras.layers.BatchNormalization(),\n",
    "        tf.keras.layers.ReLU(),\n",
    "        tf.keras.layers.MaxPool2D(pool_size= (2,2),strides= (2,2)),\n",
    "        tf.keras.layers.Conv2D(16,5,padding='valid'),\n",
    "        tf.keras.layers.BatchNormalization(),\n",
    "        tf.keras.layers.ReLU(),\n",
    "        tf.keras.layers.MaxPool2D(pool_size= (2,2), strides=(2,2)),\n",
    "        tf.keras.layers.Flatten(),\n",
    "        tf.keras.layers.Dense(120),\n",
    "        tf.keras.layers.BatchNormalization(),\n",
    "        tf.keras.layers.ReLU(),\n",
    "        tf.keras.layers.Dense(84),\n",
    "        tf.keras.layers.BatchNormalization(),\n",
    "        tf.keras.layers.ReLU(),\n",
    "        tf.keras.layers.Dense(1, activation= 'sigmoid')\n",
    "    ]\n",
    ")\n",
    "\n",
    "discriminator.summary()"
   ]
  },
  {
   "cell_type": "code",
   "execution_count": 3,
   "metadata": {},
   "outputs": [
    {
     "output_type": "stream",
     "name": "stdout",
     "text": [
      "Model: \"sequential_1\"\n_________________________________________________________________\nLayer (type)                 Output Shape              Param #   \n=================================================================\ndense_3 (Dense)              (None, 84)                924       \n_________________________________________________________________\ndense_4 (Dense)              (None, 120)               10200     \n_________________________________________________________________\ndense_5 (Dense)              (None, 400)               48400     \n_________________________________________________________________\nreshape (Reshape)            (None, 5, 5, 16)          0         \n_________________________________________________________________\nup_sampling2d (UpSampling2D) (None, 10, 10, 16)        0         \n_________________________________________________________________\nconv2d_2 (Conv2D)            (None, 10, 10, 16)        6416      \n_________________________________________________________________\nconv2d_transpose (Conv2DTran (None, 14, 14, 6)         2406      \n_________________________________________________________________\nup_sampling2d_1 (UpSampling2 (None, 28, 28, 6)         0         \n_________________________________________________________________\nconv2d_3 (Conv2D)            (None, 28, 28, 3)         453       \n_________________________________________________________________\nre_lu_4 (ReLU)               (None, 28, 28, 3)         0         \n=================================================================\nTotal params: 68,799\nTrainable params: 68,799\nNon-trainable params: 0\n_________________________________________________________________\n"
     ]
    }
   ],
   "source": [
    "# Generator model\n",
    "noise_dim = 10\n",
    "generator = tf.keras.Sequential(\n",
    "    [\n",
    "        tf.keras.Input(shape=(noise_dim,)),\n",
    "        tf.keras.layers.Dense(84, activation = 'relu'),\n",
    "        tf.keras.layers.Dense(120,activation = 'relu'),\n",
    "        tf.keras.layers.Dense(400, activation = 'relu'),\n",
    "        tf.keras.layers.Reshape((5,5,16)),\n",
    "        tf.keras.layers.UpSampling2D(size = (2,2)),\n",
    "        tf.keras.layers.Conv2D(16,5, padding = 'same',activation = 'relu'),\n",
    "        tf.keras.layers.Conv2DTranspose(6,5,activation = 'relu'),\n",
    "        tf.keras.layers.UpSampling2D(size = (2,2)),\n",
    "        tf.keras.layers.Conv2D(3,5,padding= 'same',),\n",
    "        tf.keras.layers.ReLU(max_value = 255)\n",
    "    ]\n",
    ")\n",
    "generator.summary()"
   ]
  },
  {
   "cell_type": "code",
   "execution_count": 4,
   "metadata": {},
   "outputs": [
    {
     "output_type": "stream",
     "name": "stdout",
     "text": [
      "Found 42000 files belonging to 1 classes.\n"
     ]
    }
   ],
   "source": [
    "dataset = tf.keras.preprocessing.image_dataset_from_directory(\n",
    "    directory= 'digit_data',\n",
    "    label_mode = None,\n",
    "    batch_size = 10,\n",
    "    shuffle = True,\n",
    "    image_size = (28,28)\n",
    ")"
   ]
  },
  {
   "cell_type": "code",
   "execution_count": 5,
   "metadata": {},
   "outputs": [],
   "source": [
    "# optimizers for the generator and discriminator\n",
    "\n",
    "opt_gen = tf.keras.optimizers.Adam(lr = 0.0001)\n",
    "opt_disc = tf.keras.optimizers.Adam(lr = 0.0001)\n",
    "\n",
    "# loss funtion\n",
    "\n",
    "loss = tf.keras.losses.BinaryCrossentropy()\n",
    "\n",
    "# the complete dcgan model has only one loss to which generator tries to maximize and discriminator tries to minimize "
   ]
  },
  {
   "cell_type": "code",
   "execution_count": null,
   "metadata": {},
   "outputs": [],
   "source": [
    "for epoch in range(10):\n",
    "    for idx, real in enumerate(dataset):\n",
    "        random_latent_sapce = tf.random.normal()\n"
   ]
  },
  {
   "cell_type": "code",
   "execution_count": 6,
   "metadata": {},
   "outputs": [
    {
     "output_type": "execute_result",
     "data": {
      "text/plain": [
       "<BatchDataset shapes: (None, 28, 28, 3), types: tf.float32>"
      ]
     },
     "metadata": {},
     "execution_count": 6
    }
   ],
   "source": [
    "dataset"
   ]
  },
  {
   "cell_type": "code",
   "execution_count": null,
   "metadata": {},
   "outputs": [],
   "source": []
  }
 ]
}