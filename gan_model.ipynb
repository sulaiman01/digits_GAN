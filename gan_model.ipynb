{
 "metadata": {
  "language_info": {
   "codemirror_mode": {
    "name": "ipython",
    "version": 3
   },
   "file_extension": ".py",
   "mimetype": "text/x-python",
   "name": "python",
   "nbconvert_exporter": "python",
   "pygments_lexer": "ipython3",
   "version": "3.7.4"
  },
  "orig_nbformat": 4,
  "kernelspec": {
   "name": "python3",
   "display_name": "Python 3.7.4 64-bit"
  },
  "interpreter": {
   "hash": "7be35b7fb98e915637bb1c527cd3d27c68e7a7c4684499d43c65acef62eaf27e"
  }
 },
 "nbformat": 4,
 "nbformat_minor": 2,
 "cells": [
  {
   "cell_type": "code",
   "execution_count": 14,
   "metadata": {},
   "outputs": [],
   "source": [
    "import tensorflow as tf\n",
    "import numpy as np\n",
    "import matplotlib.pyplot as plt\n"
   ]
  },
  {
   "cell_type": "code",
   "execution_count": 15,
   "metadata": {},
   "outputs": [
    {
     "output_type": "stream",
     "name": "stdout",
     "text": [
      "Model: \"sequential_5\"\n_________________________________________________________________\nLayer (type)                 Output Shape              Param #   \n=================================================================\nconv2d_10 (Conv2D)           (None, 28, 28, 6)         156       \n_________________________________________________________________\nre_lu_7 (ReLU)               (None, 28, 28, 6)         0         \n_________________________________________________________________\nmax_pooling2d_4 (MaxPooling2 (None, 14, 14, 6)         0         \n_________________________________________________________________\nconv2d_11 (Conv2D)           (None, 10, 10, 16)        2416      \n_________________________________________________________________\nre_lu_8 (ReLU)               (None, 10, 10, 16)        0         \n_________________________________________________________________\nmax_pooling2d_5 (MaxPooling2 (None, 5, 5, 16)          0         \n_________________________________________________________________\nflatten_2 (Flatten)          (None, 400)               0         \n_________________________________________________________________\ndense_5 (Dense)              (None, 1)                 401       \n=================================================================\nTotal params: 2,973\nTrainable params: 2,973\nNon-trainable params: 0\n_________________________________________________________________\n"
     ]
    }
   ],
   "source": [
    "#discriminator model\n",
    "discriminator = tf.keras.Sequential(\n",
    "    [\n",
    "        tf.keras.Input(shape= (28,28,1)),\n",
    "        tf.keras.layers.Conv2D(6,5,padding='same'),\n",
    "        tf.keras.layers.ReLU(),\n",
    "        tf.keras.layers.MaxPool2D(pool_size= (2,2),strides= (2,2)),\n",
    "        tf.keras.layers.Conv2D(16,5,padding='valid'),\n",
    "        tf.keras.layers.ReLU(),\n",
    "        tf.keras.layers.MaxPool2D(pool_size= (2,2), strides=(2,2)),\n",
    "        tf.keras.layers.Flatten(),\n",
    "        tf.keras.layers.Dense(1, activation= 'sigmoid')\n",
    "    ]\n",
    ")\n",
    "\n",
    "discriminator.summary()"
   ]
  },
  {
   "cell_type": "code",
   "execution_count": 16,
   "metadata": {},
   "outputs": [
    {
     "output_type": "stream",
     "name": "stdout",
     "text": [
      "Model: \"sequential_6\"\n_________________________________________________________________\nLayer (type)                 Output Shape              Param #   \n=================================================================\ndense_6 (Dense)              (None, 400)               60400     \n_________________________________________________________________\nreshape_3 (Reshape)          (None, 5, 5, 16)          0         \n_________________________________________________________________\nup_sampling2d_6 (UpSampling2 (None, 10, 10, 16)        0         \n_________________________________________________________________\nconv2d_12 (Conv2D)           (None, 10, 10, 16)        6416      \n_________________________________________________________________\nconv2d_transpose_3 (Conv2DTr (None, 14, 14, 6)         2406      \n_________________________________________________________________\nup_sampling2d_7 (UpSampling2 (None, 28, 28, 6)         0         \n_________________________________________________________________\nconv2d_13 (Conv2D)           (None, 28, 28, 1)         151       \n_________________________________________________________________\nre_lu_9 (ReLU)               (None, 28, 28, 1)         0         \n=================================================================\nTotal params: 69,373\nTrainable params: 69,373\nNon-trainable params: 0\n_________________________________________________________________\n"
     ]
    }
   ],
   "source": [
    "# Generator model\n",
    "noise_dim = 150\n",
    "generator = tf.keras.Sequential(\n",
    "    [\n",
    "        tf.keras.Input(shape=(noise_dim,)),\n",
    "        tf.keras.layers.Dense(5*5*16, activation = 'relu'),\n",
    "        tf.keras.layers.Reshape((5,5,16)),\n",
    "        tf.keras.layers.UpSampling2D(size = (2,2)),\n",
    "        tf.keras.layers.Conv2D(16,5, padding = 'same',activation = 'relu'),\n",
    "        tf.keras.layers.Conv2DTranspose(6,5,activation = 'relu'),\n",
    "        tf.keras.layers.UpSampling2D(size = (2,2)),\n",
    "        tf.keras.layers.Conv2D(1,5,padding= 'same',),\n",
    "        tf.keras.layers.ReLU(max_value = 255)\n",
    "    ]\n",
    ")\n",
    "generator.summary()"
   ]
  },
  {
   "cell_type": "code",
   "execution_count": 17,
   "metadata": {},
   "outputs": [
    {
     "output_type": "stream",
     "name": "stdout",
     "text": [
      "Found 42000 files belonging to 1 classes.\n"
     ]
    }
   ],
   "source": [
    "dataset = tf.keras.preprocessing.image_dataset_from_directory(\n",
    "    directory= 'digit_data',\n",
    "    label_mode = None,\n",
    "    batch_size = 60,\n",
    "    shuffle = True,\n",
    "    image_size = (28,28),\n",
    "    color_mode='grayscale'\n",
    ")\n",
    "dataset = dataset.map(lambda x : x/255)"
   ]
  },
  {
   "cell_type": "code",
   "execution_count": 18,
   "metadata": {},
   "outputs": [],
   "source": [
    "# optimizers for the generator and discriminator\n",
    "\n",
    "opt_gen = tf.keras.optimizers.Adam(lr = 0.0001)\n",
    "opt_disc = tf.keras.optimizers.Adam(lr = 0.0001)\n",
    "\n",
    "# loss funtion\n",
    "\n",
    "loss = tf.keras.losses.BinaryCrossentropy()\n",
    "\n",
    "# the complete dcgan model has only one loss to which generator tries to maximize and discriminator tries to minimize "
   ]
  },
  {
   "cell_type": "code",
   "execution_count": 19,
   "metadata": {},
   "outputs": [],
   "source": [
    "for epoch in range(25):\n",
    "    for idx, real in enumerate(dataset):\n",
    "        batch_size = real.shape[0]\n",
    "        random_latent_space = tf.random.normal(shape = (batch_size, noise_dim))\n",
    "\n",
    "        fake = generator(random_latent_space)\n",
    "\n",
    "        if idx % 50 == 0:\n",
    "            img = tf.keras.preprocessing.image.array_to_img(fake[0])\n",
    "            img.save(f'generated_images/gen{epoch}_{idx}.jpg')\n",
    "\n",
    "        #training the discriminator \n",
    "        with tf.GradientTape() as disc_tape:\n",
    "            loss_real = loss(tf.ones((batch_size,1)),discriminator(real))\n",
    "            loss_fake = loss(tf.zeros((batch_size,1)),discriminator(fake))\n",
    "            loss_disc = tf.add(loss_real,loss_fake)\n",
    "\n",
    "        grads = disc_tape.gradient(loss_disc,discriminator.trainable_weights) \n",
    "        opt_disc.apply_gradients(zip(grads, discriminator.trainable_weights))\n",
    "\n",
    "        # training the generator\n",
    "        #for epoch_gen in range(2):\n",
    "        with tf.GradientTape() as gen_tape:\n",
    "            random_latent_space = tf.random.normal(shape = (batch_size, noise_dim))\n",
    "            fake = generator(random_latent_space)\n",
    "            loss_gen = loss(tf.ones((batch_size,1)),discriminator(fake))\n",
    "\n",
    "        grads = gen_tape.gradient(loss_gen, generator.trainable_weights)\n",
    "        opt_gen.apply_gradients(zip(grads,generator.trainable_weights))\n",
    "\n",
    "\n"
   ]
  },
  {
   "cell_type": "code",
   "execution_count": null,
   "metadata": {},
   "outputs": [],
   "source": []
  }
 ]
}